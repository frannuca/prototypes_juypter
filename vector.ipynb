{
 "cells": [
  {
   "cell_type": "code",
   "execution_count": 23,
   "metadata": {},
   "outputs": [],
   "source": [
    "from math import hypot\n",
    "import array"
   ]
  },
  {
   "cell_type": "code",
   "execution_count": 5,
   "metadata": {},
   "outputs": [],
   "source": [
    "class Vector:\n",
    "    def __init__(self,x=0,y=0):\n",
    "        self.x=x\n",
    "        self.y=y\n",
    "    def __repr__(self):\n",
    "        return \"Vector(%r,%r)\" % (self.x,self.y)\n",
    "    def __abs__(self):\n",
    "        return hypot(self.x,self.y)\n",
    "    def __bool__(self):\n",
    "        return bool(abs(self))\n",
    "    def __add__(self,other):\n",
    "        return Vector(x=self.x+other.x,y=self.y+other.y)\n",
    "    def __mul__(self,scalar):\n",
    "        return Vector(x=self.x*scalar,y=self.y*scalar)\n",
    "\n",
    "    def __rmul__(self, scalar):\n",
    "        return self * scalar\n",
    "\n"
   ]
  },
  {
   "cell_type": "code",
   "execution_count": 12,
   "metadata": {},
   "outputs": [
    {
     "name": "stdout",
     "output_type": "stream",
     "text": [
      "a+b=Vector(3,3)\n",
      "a*3=Vector(3,3)\n",
      "3*a=Vector(3,3)\n",
      "Sum if true\n",
      "Zero Vector detected as false\n",
      "||a+b|| = 4.242640687119285\n"
     ]
    }
   ],
   "source": [
    "a = Vector(1,1)\n",
    "b = Vector(2,2)\n",
    "print(f\"a+b={a+b}\")\n",
    "print(f\"a*3={a*3}\")\n",
    "print(f\"3*a={3*a}\")\n",
    "if a+b:\n",
    "    print(\"Sum if true\")\n",
    "if not Vector(0,0):\n",
    "    print(\"Zero Vector detected as false\")\n",
    "\n",
    "print(f\"||a+b|| = {abs(a+b)}\")"
   ]
  },
  {
   "cell_type": "code",
   "execution_count": 18,
   "metadata": {},
   "outputs": [
    {
     "name": "stdout",
     "output_type": "stream",
     "text": [
      "[228, 115, 102, 105, 111, 109, 115, 108]\n",
      "['ä', 's', 'f', 'i', 'o', 'm', 's', 'l']\n"
     ]
    }
   ],
   "source": [
    "symbols = 'äsfiomsl'\n",
    "codes = [ord(x) for x in symbols]\n",
    "print(codes)\n",
    "fcodes = list(filter(lambda x: x if ord(x)>100 else \"NA\", symbols))\n",
    "print(fcodes)"
   ]
  },
  {
   "cell_type": "code",
   "execution_count": 21,
   "metadata": {},
   "outputs": [
    {
     "name": "stdout",
     "output_type": "stream",
     "text": [
      "[('black', 'S'), ('black', 'M'), ('black', 'L'), ('white', 'S'), ('white', 'M'), ('white', 'L')]\n"
     ]
    }
   ],
   "source": [
    "colors = ['black','white']\n",
    "sizes = ['S','M','L']\n",
    "tshirts = [(color,size) for color in colors for size in sizes]\n",
    "\n",
    "print(tshirts)"
   ]
  },
  {
   "cell_type": "code",
   "execution_count": 26,
   "metadata": {},
   "outputs": [
    {
     "data": {
      "text/plain": [
       "array('f', [228.0, 115.0, 102.0, 105.0, 111.0, 109.0, 115.0, 108.0])"
      ]
     },
     "execution_count": 26,
     "metadata": {},
     "output_type": "execute_result"
    }
   ],
   "source": [
    "array.array('f', (ord(symbol) for symbol in symbols))"
   ]
  }
 ],
 "metadata": {
  "kernelspec": {
   "display_name": "Python 3",
   "language": "python",
   "name": "python3"
  },
  "language_info": {
   "codemirror_mode": {
    "name": "ipython",
    "version": 3
   },
   "file_extension": ".py",
   "mimetype": "text/x-python",
   "name": "python",
   "nbconvert_exporter": "python",
   "pygments_lexer": "ipython3",
   "version": "3.7.6"
  }
 },
 "nbformat": 4,
 "nbformat_minor": 4
}
