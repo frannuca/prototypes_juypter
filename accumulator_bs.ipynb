{
 "cells": [
  {
   "cell_type": "code",
   "execution_count": 9,
   "source": [
    "import numpy as np\n",
    "from scipy.stats import norm\n",
    "import datetime as dt\n",
    "import matplotlib.pyplot as plt"
   ],
   "outputs": [],
   "metadata": {}
  },
  {
   "cell_type": "markdown",
   "source": [
    "# Single Barrier Options Analytical Expressions"
   ],
   "metadata": {}
  },
  {
   "cell_type": "code",
   "execution_count": 12,
   "source": [
    "def C_v(S,K,T,r,q,sigma):\n",
    "    #S: spot price\n",
    "    #K: strike price\n",
    "    #T: time to maturity\n",
    "    #r: interest rate\n",
    "    #q: dividend rate\n",
    "    #sigma: volatility of underlying asset\n",
    "    \n",
    "    d1 = (np.log(S / K) + (r - q + 0.5 * sigma ** 2) * T) / (sigma * np.sqrt(T))\n",
    "    d2 = (np.log(S / K) + (r - q - 0.5 * sigma ** 2) * T) / (sigma * np.sqrt(T))\n",
    "    result = (S * norm.cdf(d1) - K * np.exp(-r * T) * norm.cdf(d2))        \n",
    "    return result\n",
    "\n",
    "def P_v(S,K,T,r,q,sigma):\n",
    "    #S: spot price\n",
    "    #K: strike price\n",
    "    #T: time to maturity\n",
    "    #r: interest rate\n",
    "    #q: dividend rate\n",
    "    #sigma: volatility of underlying asset\n",
    "    \n",
    "    d1 = (np.log(S / K) + (r - q + 0.5 * sigma ** 2) * T) / (sigma * np.sqrt(T))\n",
    "    d2 = (np.log(S / K) + (r - q - 0.5 * sigma ** 2) * T) / (sigma * np.sqrt(T))\n",
    "    result = (K * np.exp(-r * T) * norm.cdf(-d2) - S * norm.cdf(-d1))        \n",
    "    return result\n",
    "\n",
    "def C_d(S,K,T,r,q,sigma):\n",
    "    d2 = (np.log(S / K) + (r - q - 0.5 * sigma ** 2) * T) / (sigma * np.sqrt(T))\n",
    "    return np.exp(-r*T)*norm.cdf(d2)\n",
    "\n",
    "def P_d(S,K,T,r,q,sigma):\n",
    "    d2 = (np.log(S / K) + (r - q - 0.5 * sigma ** 2) * T) / (sigma * np.sqrt(T))\n",
    "    return np.exp(-r*T)*norm.cdf(-d2)\n",
    "\n",
    "#https://people.maths.ox.ac.uk/howison/barriers.pdf\n",
    "\n",
    "def C_do(S,K,T,r,q,sigma,BL):\n",
    "    s2 = sigma**2\n",
    "    k = 2*(r-q)/s2\n",
    "    a = 0.5*(1-k)\n",
    "    b = -0.25*(k-1)**2-k\n",
    "    if BL < K:\n",
    "        cbs = C_v(S,K,T,r,q,sigma)        \n",
    "        return  cbs - (S/BL)**(2*a)*C_v(BL**2/S,K,T,r,q,sigma)\n",
    "    else:\n",
    "    \n",
    "        return (C_v(S,BL,T,r,q,sigma) + (BL-K)*C_d(S,BL,T,r,q,sigma) \n",
    "               -(S/BL)**(2*a)*(C_v(BL**2/S,BL,T,r,q,sigma) + (BL-K)*C_d(BL**2/S,BL,T,r,q,sigma))\n",
    "               )\n",
    "\n",
    " \n",
    "\n",
    "\n",
    "def C_di(S,K,T,r,q,sigma,BL):\n",
    "    s2 = sigma**2\n",
    "    k = 2*(r-q)/s2\n",
    "    a = 0.5*(1-k)\n",
    "    b = -0.25*(k-1)**2-k\n",
    "    return (S/BL)**(2*a)*C_v(BL**2/S,K,T,r,q,sigma)\n",
    "\n",
    "\n",
    "def P_do(S,K,T,r,q,sigma,BL):\n",
    "    s2 = sigma**2\n",
    "    k = 2*(r-q)/s2\n",
    "    a = 0.5*(1-k)\n",
    "    b = -0.25*(k-1)**2-k\n",
    "\n",
    "    return (P_v(S,K,T,r,q,sigma) - P_v(S,BL,T,r,q,sigma)  - (K-BL)*P_d(S,BL,T,r,q,sigma) \n",
    "            - (S/BL)**2 * (P_v(BL**2/S,K,T,r,q,sigma) - P_v(BL**2/S,BL,T,r,q,sigma) - (K-BL)*P_d(BL**2/S,BL,T,r,q,sigma) )\n",
    "            )\n",
    "\n",
    "def C_uo(S,K,T,r,q,sigma,BL):\n",
    "    s2 = sigma**2\n",
    "    k = 2*(r-q)/s2\n",
    "    a = 0.5*(1-k)\n",
    "    b = -0.25*(k-1)**2-k\n",
    "\n",
    "    npv = (C_v(S,K,T,r,q,sigma) - C_v(S,BL,T,r,q,sigma)  - (BL-K)*C_d(S,BL,T,r,q,sigma) \n",
    "            - (S/BL)**2 * (C_v(BL**2/S,K,T,r,q,sigma) - C_v(BL**2/S,BL,T,r,q,sigma) - (BL-K)*C_d(BL**2/S,BL,T,r,q,sigma) )\n",
    "            )\n",
    "    return npv\n",
    "\n",
    "def P_uo(S,K,T,r,q,sigma,BL):\n",
    "    s2 = sigma**2\n",
    "    k = 2*(r-q)/s2\n",
    "    a = 0.5*(1-k)\n",
    "    b = -0.25*(k-1)**2-k\n",
    "    npv = (P_v(S,BL,T,r,q,sigma) + (K-BL)*P_d(S,BL,T,r,q,sigma) \n",
    "               -(S/BL)**(2*a)*(P_v(BL**2/S,BL,T,r,q,sigma) + (K-BL)*P_d(BL**2/S,BL,T,r,q,sigma))\n",
    "            )\n",
    "    return npv\n",
    "\n",
    "\n",
    "\n",
    "def syntheticStock(S,K,T,r,q,sigma,BL,gearing):\n",
    "    return C_uo(S,K,T,r,q,sigma,BL) - gearing * P_uo(S,K,T,r,q,sigma,BL)\n",
    "\n",
    "\n",
    "\n",
    "def accumulator(S,K,r,q,sigma,BL,gearing,periods,shares_per_day,cob):\n",
    "    payoff = 0\n",
    "    for x in periods:\n",
    "        (dstart,dend) = x\n",
    "        if dend > cob:\n",
    "            ndays = np.busday_count( dstart, dend )\n",
    "            T = np.busday_count( cob, dend )/260.0\n",
    "            payoff += ndays * shares_per_day * syntheticStock(S,K,T,r,q,sigma,BL,gearing)\n",
    "    return payoff\n"
   ],
   "outputs": [],
   "metadata": {}
  },
  {
   "cell_type": "code",
   "execution_count": 15,
   "source": [
    "cob = dt.date(2021,9,25)\n",
    "BL=105\n",
    "K=100\n",
    "gearing=1\n",
    "shares_per_day = 10\n",
    "r=0.01\n",
    "q=0.0\n",
    "sigma = 0.2\n",
    "period_starts = [cob + dt.timedelta(days=20*i) for i in range(0,5)]\n",
    "periods_ends = [t0 + dt.timedelta(days=19) for t0 in period_starts]\n",
    "periods = list(zip(period_starts,periods_ends))\n",
    "\n",
    "\n",
    "npv = lambda s : accumulator(s,K,r,q,sigma,BL,gearing,periods,shares_per_day,cob)\n",
    "Ss = np.linspace(90,120,100)\n",
    "npvs =[]\n",
    "for s in Ss:\n",
    "    aux = npv(s)\n",
    "\n",
    "    npvs.append(aux)\n",
    "plt.plot(Ss,npvs)\n",
    "plt.show()"
   ],
   "outputs": [
    {
     "output_type": "display_data",
     "data": {
      "image/png": "[encoded data removed]",
      "text/plain": [
       "<Figure size 432x288 with 1 Axes>"
      ]
     },
     "metadata": {
      "needs_background": "light"
     }
    }
   ],
   "metadata": {}
  },
  {
   "cell_type": "code",
   "execution_count": null,
   "source": [],
   "outputs": [],
   "metadata": {}
  }
 ],
 "metadata": {
  "orig_nbformat": 4,
  "language_info": {
   "name": "python",
   "version": "3.7.6",
   "mimetype": "text/x-python",
   "codemirror_mode": {
    "name": "ipython",
    "version": 3
   },
   "pygments_lexer": "ipython3",
   "nbconvert_exporter": "python",
   "file_extension": ".py"
  },
  "kernelspec": {
   "name": "python3",
   "display_name": "Python 3.7.6 64-bit ('base': conda)"
  },
  "interpreter": {
   "hash": "018052bc2f018d2ac0c34c005859a0c610d10d85bc98c536acb9ecd19fbd2308"
  }
 },
 "nbformat": 4,
 "nbformat_minor": 2
}