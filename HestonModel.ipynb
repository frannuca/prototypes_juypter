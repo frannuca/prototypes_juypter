{
 "cells": [
  {
   "cell_type": "code",
   "execution_count": 1,
   "metadata": {},
   "outputs": [],
   "source": [
    "import pandas as pd\n",
    "import numpy as np\n",
    "import cmath\n",
    "import matplotlib.pyplot as plt\n",
    "from scipy import integrate"
   ]
  },
  {
   "cell_type": "code",
   "execution_count": 2,
   "metadata": {},
   "outputs": [],
   "source": [
    "def heston_integrand(S,K,kappa,l,tau,r,q,rho,sigma,theta,phi,vo):\n",
    "    b1 = kappa + l- rho*sigma\n",
    "    b2 = kappa + l\n",
    "    u1=0.5\n",
    "    u2=-0.5\n",
    "    a=kappa*theta\n",
    "    i = complex(0,1.0)\n",
    "    sigma2=sigma*sigma\n",
    "    logK = np.log(K)\n",
    "    logS =np.log(S)\n",
    "    \n",
    "    z = rho*sigma*phi*i\n",
    "    def g(b,d):\n",
    "        return (b-z-d)/(b-z+d)\n",
    "    \n",
    "    def d(b,u):\n",
    "        return np.sqrt(np.power(b-z,2.0)-sigma2*(2*i*u*phi-phi*phi))\n",
    "    \n",
    "    \n",
    "    def C(b,d,g):\n",
    "        ratio =  (1.0-g*np.exp(-d*tau))/(1.0-g)\n",
    "        return (r-q)*i*phi*tau + a/sigma2*((b-z-d)*tau-2.0*np.log(ratio))\n",
    "        \n",
    "        \n",
    "    def D(b,d,g):\n",
    "        return (b-z-d)/(sigma2)*(1.0-np.exp(-d*tau))/(1.0-g*np.exp(-d*tau))\n",
    "    \n",
    "    d1 = d(b1,u1)\n",
    "    d2 = d(b2,u2)\n",
    "    g1 = g(b1,d1)\n",
    "    g2 = g(b2,d2)\n",
    "    C1 = C(b1,d1,g1)\n",
    "    C2 = C(b2,d2,g2)\n",
    "    D1 = D(b1,d1,g1)\n",
    "    D2 = D(b2,d2,g2)\n",
    "    \n",
    "    f1 = (np.exp(C1+D1*vo+i*phi*logS))\n",
    "    f2 = (np.exp(C2+D2*vo+i*phi*logS))\n",
    "    \n",
    "    Ia = np.exp(-i*phi*logK)/(i*phi)*(S*np.exp(-q*tau)*f1-K*np.exp(-r*tau)*f2)\n",
    "    return Ia.real\n",
    "    \n",
    "    "
   ]
  },
  {
   "cell_type": "code",
   "execution_count": 3,
   "metadata": {},
   "outputs": [
    {
     "name": "stdout",
     "output_type": "stream",
     "text": [
      "17.87462478594385\n"
     ]
    },
    {
     "data": {
      "image/png": "[encoded data removed]",
      "text/plain": [
       "<Figure size 432x288 with 1 Axes>"
      ]
     },
     "metadata": {
      "needs_background": "light"
     },
     "output_type": "display_data"
    }
   ],
   "source": [
    "kappa=1.5768\n",
    "sigma=0.5751\n",
    "rho = -0.5711\n",
    "theta=0.0398\n",
    "vo = 0.0175\n",
    "K=100.0\n",
    "S=100.0        \n",
    "q=0.0\n",
    "r=0.03\n",
    "l=0.0\n",
    "tau=5.0\n",
    "x=np.linspace(0.0001,10,100)\n",
    "y = [\n",
    "    heston_integrand(S=S,K=K,kappa=kappa,l=l,tau=tau,r=r,q=q,\n",
    "                     rho=rho,sigma=sigma,theta=theta,phi=phi,vo=vo) \n",
    "    for phi in x\n",
    "]\n",
    "print(y[0])\n",
    "plt.plot(x,y)\n",
    "plt.show()\n"
   ]
  },
  {
   "cell_type": "code",
   "execution_count": 4,
   "metadata": {},
   "outputs": [
    {
     "data": {
      "image/png": "[encoded data removed]",
      "text/plain": [
       "<Figure size 432x288 with 1 Axes>"
      ]
     },
     "metadata": {
      "needs_background": "light"
     },
     "output_type": "display_data"
    }
   ],
   "source": [
    "from scipy import integrate\n",
    "\n",
    "def hestoncall(S,K,kappa,l,tau,r,q,rho,sigma,theta,vo):\n",
    "    def integrand(phi):\n",
    "        return heston_integrand(S=S,K=K,kappa=kappa,l=l,tau=tau,r=r,q=q,\n",
    "                     rho=rho,sigma=sigma,theta=theta,phi=phi,vo=vo)\n",
    "    I=integrate.quad(integrand,0.001,100)\n",
    "    return 0.5*S*np.exp(-q*tau)-0.5*K*np.exp(-r*tau)+1.0/np.pi*I[0]\n",
    "\n",
    "\n",
    "def hestonput(S,K,kappa,l,tau,r,q,rho,sigma,theta,vo):\n",
    "    return hestoncall(S,K,kappa,l,tau,r,q,rho,sigma,theta,vo)+K*np.exp(-r*tau)-S*np.exp(-q*tau)\n",
    "\n",
    "\n",
    "\n",
    "kappa=1.5768\n",
    "sigma=0.5751\n",
    "rho = -0.5711\n",
    "theta=0.0398\n",
    "vo = 0.0175\n",
    "K=100.0\n",
    "\n",
    "q=0.0\n",
    "r=0.03\n",
    "l=0.0\n",
    "tau=0.5\n",
    "\n",
    "x=np.linspace(1,150,10)\n",
    "y= [hestonput(S,K,kappa,l,tau,r,q,rho,sigma,theta,vo) for S in x]\n",
    "\n",
    "plt.plot(x,y)\n",
    "plt.show()"
   ]
  },
  {
   "cell_type": "markdown",
   "metadata": {},
   "source": [
    "## Quadratic Discretization for MC\n"
   ]
  },
  {
   "cell_type": "markdown",
   "metadata": {},
   "source": [
    "### Volatility"
   ]
  },
  {
   "cell_type": "code",
   "execution_count": 5,
   "metadata": {},
   "outputs": [],
   "source": [
    "from scipy.stats import norm\n",
    "\n",
    "def invChi(beta,p):\n",
    "    def internal_(u):\n",
    "        if(u<=p):\n",
    "            return 0.0\n",
    "        else:\n",
    "            return 1/beta*np.log((1-p)/(1-u))\n",
    "        \n",
    "def dV(theta,vt,kappa,sigma,dt,Zv,Phic=1.5):\n",
    "    sigma2 = sigma*sigma    \n",
    "    ekdt = np.exp(-kappa*dt)\n",
    "    m = theta*(vt-theta)*np.exp(-kappa*dt)\n",
    "    m2 = m*m\n",
    "    s2 = (vt*sigma2*ekdt/kappa*(1-ekdt)+\n",
    "          theta*sigma2/(2*kappa)\n",
    "          *np.power((1-ekdt),2.0)\n",
    "         )\n",
    "    Phi = s2/m2\n",
    "    b = np.sqrt(2/Phi-1+np.sqrt(2/Phi*(2/Phi-1)))\n",
    "    a= m/(1+b*b)\n",
    "    p =(Phi-1)/(Phi+1)\n",
    "    beta = (1-p)/m\n",
    "    invPhi = invChi(beta=beta,p=p)\n",
    "    if(Phi<Phic):\n",
    "        return a*(b+Zs)\n",
    "    else:\n",
    "        return invPhi(u)\n"
   ]
  },
  {
   "cell_type": "code",
   "execution_count": null,
   "metadata": {},
   "outputs": [],
   "source": []
  },
  {
   "cell_type": "markdown",
   "metadata": {},
   "source": [
    "### LnS"
   ]
  },
  {
   "cell_type": "code",
   "execution_count": 6,
   "metadata": {},
   "outputs": [],
   "source": [
    "def lnS(St,vt,vtp,r,q,theta,kappa,sigma,dt,u,rho,gamma_1=0.5,gamma_2=0.5,Phic=1.5):\n",
    "    K0= -kappa*theta/sigma*dt\n",
    "    K1=(k*rho/sigma-0.5)*gamma_1*dt-rho/sigma\n",
    "    K2=(kappa*rho/sigma-0.5)*gamma_2*dt+rho/sigma\n",
    "    K3=(1-rho*rho)*gamma_1*dt\n",
    "    K4=(1-rho*rho)*gamma_2*dt\n",
    "    Zv = norm.ppf(u)\n",
    "    lnStp = np.log(St)+(r-q)*dt+K0+K1*vt+K2*vtp+np.sqrt(K3*vt+K4*vtp)*Zv\n",
    "    return lnStp"
   ]
  },
  {
   "cell_type": "code",
   "execution_count": 196,
   "metadata": {},
   "outputs": [
    {
     "name": "stdout",
     "output_type": "stream",
     "text": [
      "[-1.11188012]\n",
      "[[0. 0. 0.]\n",
      " [0. 0. 0.]\n",
      " [0. 0. 0.]\n",
      " [0. 0. 0.]\n",
      " [0. 0. 0.]\n",
      " [0. 0. 0.]\n",
      " [0. 0. 0.]\n",
      " [0. 0. 0.]\n",
      " [0. 0. 0.]\n",
      " [0. 0. 0.]]\n",
      "-0.2533471031357997\n",
      "0.31890218468938336\n"
     ]
    }
   ],
   "source": [
    "np.random.seed(42)\n",
    "np.random.uniform(0,1)\n",
    "print(np.random.normal(0.0, 1.0, 1))\n",
    "print(np.zeros((10,3)))\n",
    "print( norm.ppf(0.4))\n",
    "print(np.random.randn())"
   ]
  },
  {
   "cell_type": "code",
   "execution_count": 213,
   "metadata": {},
   "outputs": [
    {
     "name": "stdout",
     "output_type": "stream",
     "text": [
      "Price analytics 11.206791097350461 \n",
      "simulating i=0\n",
      "simulating i=1000\n",
      "simulating i=2000\n",
      "simulating i=3000\n",
      "simulating i=4000\n",
      "MC=11.30525539892085, \n",
      "analytical=11.206791097350461,\n",
      "rel. error=-0.8709604347354137%\n",
      "Dollar error -0.09846430157038988\n"
     ]
    }
   ],
   "source": [
    "from scipy.stats import norm\n",
    "import numpy as np\n",
    "import pandas as pd\n",
    "import matplotlib.pyplot as plt\n",
    "np.random.seed(42)\n",
    "N = 5000\n",
    "T = 100\n",
    "\n",
    "np.random.seed(1)\n",
    "K=90.0\n",
    "S0 = 100.0\n",
    "q=0.02\n",
    "r=0.03\n",
    "kappa = 6.2\n",
    "theta = 0.06\n",
    "sigma = 0.5\n",
    "rho=-0.7\n",
    "vo = 0.03\n",
    "\n",
    "c = hestoncall(S=S0,K=K,kappa=kappa,l=0,tau=0.25,r=r,q=q,rho=rho,sigma=sigma,theta=theta,vo=vo)\n",
    "print(f\"Price analytics {c} \")\n",
    "dt = 0.25/float(T)\n",
    "\n",
    "\n",
    "phic = 1.5\n",
    "sigma2 = sigma * sigma\n",
    "ekdt = np.exp(-kappa * dt)\n",
    "\n",
    "gamma_1 = 0.5\n",
    "gamma_2=0.5\n",
    "\n",
    "K0 = -kappa *rho* theta / sigma * dt\n",
    "K1 = (kappa * rho / sigma - 0.5) * gamma_1 * dt - rho / sigma\n",
    "K2 = (kappa * rho / sigma - 0.5) * gamma_2 * dt + rho / sigma\n",
    "K3 = (1.0 - rho * rho) * gamma_1 * dt\n",
    "K4 = (1.0 - rho * rho) * gamma_2 * dt\n",
    "A = K2 + 0.5 * K4\n",
    "MC = True\n",
    "St = np.zeros((N, T))\n",
    "Vt = np.zeros((N, T))\n",
    "\n",
    "for i in range(0, N):\n",
    "    if i % 1000 == 0:\n",
    "        print(f\"simulating i={i}\")\n",
    "    St[i, 0] = S0\n",
    "    Vt[i, 0] = vo\n",
    "    for t in range(1, T):   \n",
    "        Z1= np.random.randn()\n",
    "        #Zs = rho*Zv+np.sqrt(1.0-rho*rho)*np.random.normal(0.0, 1.0, 1)\n",
    "        # QE Algorithm:\n",
    "        m = theta + (Vt[i, t-1] - theta) * ekdt\n",
    "        m2 = m * m\n",
    "        s2 = (Vt[i, t-1] * sigma2 * ekdt / kappa * (1.0 - ekdt) +\n",
    "              theta * sigma2 / (2 * kappa)\n",
    "              * (1.0 - ekdt)*(1.0 - ekdt)\n",
    "              )\n",
    "\n",
    "        phi = s2 / m2\n",
    "        \n",
    "              \n",
    "        if phi <= phic:\n",
    "            b = np.sqrt(2.0 / phi - 1.0 + np.sqrt(2.0 / phi * (2.0 / phi - 1)))\n",
    "            a = m / (1.0 + b * b) \n",
    "            Zv = np.random.randn()\n",
    "            Vt[i, t] = a * (b + Zv)*(b + Zv)\n",
    "            # martingale correction\n",
    "            if MC and A < 1.0 / (2.0 * a):\n",
    "                M = np.exp(A * b * b * a / (1 - 2 * A * a)) / np.sqrt(1 - 2 * A * a)\n",
    "                K0 = -np.log(M) - (K1 + 0.5 * K3) * Vt[i, t-1]            \n",
    "        else: \n",
    "            Uv = np.random.uniform(1e-6,1.0-1e-6)  \n",
    "            p = (phi - 1) / (phi + 1)\n",
    "            beta = (1.0 - p) / m\n",
    "            if Uv <= p:\n",
    "                phiinv = 0\n",
    "            else:\n",
    "                phiinv = 1.0 / beta * np.log((1 - p) / (1 - Uv))\n",
    "            Vt[i,t] = phiinv\n",
    "            # Martingale correction\n",
    "            if MC == True and A < beta:\n",
    "                M = p + beta * (1 - p) / (beta - A)\n",
    "                K0 = -np.log(M) - (K1 + 0.5 * K3) * Vt[i, t-1]\n",
    "                \n",
    "        St[i, t] = (St[i, t-1] *\n",
    "                        np.exp((r - q) * dt + \n",
    "                               K0 + \n",
    "                               K1 * Vt[i, t - 1] + \n",
    "                               K2 * Vt[i, t] + \n",
    "                               np.sqrt(K3 * Vt[i, t - 1] + \n",
    "                                       K4 * Vt[i, t]) * Z1\n",
    "                              )\n",
    "                        )\n",
    "\n",
    "#frameS = pd.DataFrame(St)\n",
    "#frameS.transpose().plot(legend=None)\n",
    "\n",
    "#plt.figure()\n",
    "#frameV = pd.DataFrame(Vt)\n",
    "#frameV.transpose().plot(legend=None)\n",
    "\n",
    "#plt.show()\n",
    "\n",
    "\n",
    "\n",
    "payoff = frameS.values[:,-1]-K\n",
    "payoff[payoff<0]=0.0\n",
    "cmc = payoff.mean()\n",
    "print(f\"\"\"MC={cmc}, \n",
    "analytical={c},\n",
    "rel. error={(c-cmc)/cmc*100.0}%\"\"\")\n",
    "print(f\"Dollar error {c-cmc}\")\n",
    "\n"
   ]
  }
 ],
 "metadata": {
  "kernelspec": {
   "display_name": "Python 3",
   "language": "python",
   "name": "python3"
  },
  "language_info": {
   "codemirror_mode": {
    "name": "ipython",
    "version": 3
   },
   "file_extension": ".py",
   "mimetype": "text/x-python",
   "name": "python",
   "nbconvert_exporter": "python",
   "pygments_lexer": "ipython3",
   "version": "3.7.6"
  }
 },
 "nbformat": 4,
 "nbformat_minor": 4
}
